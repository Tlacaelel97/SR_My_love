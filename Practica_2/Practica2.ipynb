{
 "cells": [
  {
   "attachments": {},
   "cell_type": "markdown",
   "metadata": {},
   "source": [
    "## Práctica 2"
   ]
  },
  {
   "attachments": {},
   "cell_type": "markdown",
   "metadata": {},
   "source": [
    "## Librerias"
   ]
  },
  {
   "cell_type": "code",
   "execution_count": 1,
   "metadata": {},
   "outputs": [],
   "source": [
    "import pandas as pd\n",
    "import numpy as np"
   ]
  },
  {
   "attachments": {},
   "cell_type": "markdown",
   "metadata": {},
   "source": [
    "## Datos"
   ]
  },
  {
   "cell_type": "code",
   "execution_count": 2,
   "metadata": {},
   "outputs": [
    {
     "data": {
      "text/html": [
       "<div>\n",
       "<style scoped>\n",
       "    .dataframe tbody tr th:only-of-type {\n",
       "        vertical-align: middle;\n",
       "    }\n",
       "\n",
       "    .dataframe tbody tr th {\n",
       "        vertical-align: top;\n",
       "    }\n",
       "\n",
       "    .dataframe thead th {\n",
       "        text-align: right;\n",
       "    }\n",
       "</style>\n",
       "<table border=\"1\" class=\"dataframe\">\n",
       "  <thead>\n",
       "    <tr style=\"text-align: right;\">\n",
       "      <th></th>\n",
       "      <th>Tiempo</th>\n",
       "      <th>Cuentas</th>\n",
       "    </tr>\n",
       "  </thead>\n",
       "  <tbody>\n",
       "    <tr>\n",
       "      <th>0</th>\n",
       "      <td>60</td>\n",
       "      <td>20</td>\n",
       "    </tr>\n",
       "    <tr>\n",
       "      <th>1</th>\n",
       "      <td>120</td>\n",
       "      <td>15</td>\n",
       "    </tr>\n",
       "    <tr>\n",
       "      <th>2</th>\n",
       "      <td>180</td>\n",
       "      <td>13</td>\n",
       "    </tr>\n",
       "    <tr>\n",
       "      <th>3</th>\n",
       "      <td>240</td>\n",
       "      <td>13</td>\n",
       "    </tr>\n",
       "    <tr>\n",
       "      <th>4</th>\n",
       "      <td>300</td>\n",
       "      <td>10</td>\n",
       "    </tr>\n",
       "  </tbody>\n",
       "</table>\n",
       "</div>"
      ],
      "text/plain": [
       "   Tiempo  Cuentas\n",
       "0      60       20\n",
       "1     120       15\n",
       "2     180       13\n",
       "3     240       13\n",
       "4     300       10"
      ]
     },
     "execution_count": 2,
     "metadata": {},
     "output_type": "execute_result"
    }
   ],
   "source": [
    "# Lecturas de Fondo\n",
    "tiempo = [60,120,180,240,300]\n",
    "cuentas = [20,15,13,13,10]\n",
    "Fondo = pd.DataFrame(tiempo, columns = ['Tiempo'])\n",
    "Fondo['Cuentas'] = cuentas\n",
    "Fondo"
   ]
  },
  {
   "attachments": {},
   "cell_type": "markdown",
   "metadata": {},
   "source": [
    "## 2.- Prueba de funcionamiento y lectura del fondo ambiental."
   ]
  },
  {
   "cell_type": "code",
   "execution_count": 3,
   "metadata": {},
   "outputs": [
    {
     "data": {
      "text/plain": [
       "14.2"
      ]
     },
     "execution_count": 3,
     "metadata": {},
     "output_type": "execute_result"
    }
   ],
   "source": [
    "# Promedio \n",
    "Lf = Fondo.mean()[1]\n",
    "Lf"
   ]
  },
  {
   "cell_type": "code",
   "execution_count": 4,
   "metadata": {},
   "outputs": [
    {
     "data": {
      "text/plain": [
       "3.7013511046643495"
      ]
     },
     "execution_count": 4,
     "metadata": {},
     "output_type": "execute_result"
    }
   ],
   "source": [
    "# Desviación estándar\n",
    "dsv_std = Fondo.std()[1]\n",
    "dsv_std"
   ]
  },
  {
   "attachments": {},
   "cell_type": "markdown",
   "metadata": {},
   "source": [
    "## 3.- Penetración de la radiación alfa."
   ]
  },
  {
   "cell_type": "code",
   "execution_count": 25,
   "metadata": {},
   "outputs": [],
   "source": [
    "def val_norm(val,lf:float)->list:\n",
    "    \"\"\"\n",
    "    Función que calcula el valor neto normalizado, recibe una lista o una columna de un \n",
    "    dataframe, asi como el promedio del fondo (lf) y calcula el valor normalizado para cada uno de los\n",
    "    valores ingresados en la lista val, regresa una lista con los valores netos normalizados.\n",
    "    \"\"\"\n",
    "    l0 = val[0]\n",
    "    n_norm = []\n",
    "    for i in np.arange(len(val)):\n",
    "        lN = (val[i]-lf)/(l0-lf)\n",
    "        n_norm.append(lN)\n",
    "    return n_norm"
   ]
  },
  {
   "attachments": {},
   "cell_type": "markdown",
   "metadata": {},
   "source": [
    "### Promedios radiación alfa $(Am-241)$ "
   ]
  },
  {
   "attachments": {},
   "cell_type": "markdown",
   "metadata": {},
   "source": [
    "Con cada barrera se tomaron 3 mediciones, la tabla a continuación correspone al promedio con cada numero de barreras (tanto de aluminio como de Papel)"
   ]
  },
  {
   "cell_type": "code",
   "execution_count": 26,
   "metadata": {},
   "outputs": [],
   "source": [
    "L = ['L_0', 'L_1', 'L_2', 'L_3']"
   ]
  },
  {
   "cell_type": "code",
   "execution_count": 27,
   "metadata": {},
   "outputs": [
    {
     "data": {
      "text/html": [
       "<div>\n",
       "<style scoped>\n",
       "    .dataframe tbody tr th:only-of-type {\n",
       "        vertical-align: middle;\n",
       "    }\n",
       "\n",
       "    .dataframe tbody tr th {\n",
       "        vertical-align: top;\n",
       "    }\n",
       "\n",
       "    .dataframe thead th {\n",
       "        text-align: right;\n",
       "    }\n",
       "</style>\n",
       "<table border=\"1\" class=\"dataframe\">\n",
       "  <thead>\n",
       "    <tr style=\"text-align: right;\">\n",
       "      <th></th>\n",
       "      <th>No. de Barreras</th>\n",
       "      <th>Aluminio</th>\n",
       "      <th>Papel</th>\n",
       "    </tr>\n",
       "  </thead>\n",
       "  <tbody>\n",
       "    <tr>\n",
       "      <th>0</th>\n",
       "      <td>L_0</td>\n",
       "      <td>14979.67</td>\n",
       "      <td>14979.00</td>\n",
       "    </tr>\n",
       "    <tr>\n",
       "      <th>1</th>\n",
       "      <td>L_1</td>\n",
       "      <td>427.33</td>\n",
       "      <td>415.67</td>\n",
       "    </tr>\n",
       "    <tr>\n",
       "      <th>2</th>\n",
       "      <td>L_2</td>\n",
       "      <td>405.00</td>\n",
       "      <td>405.67</td>\n",
       "    </tr>\n",
       "    <tr>\n",
       "      <th>3</th>\n",
       "      <td>L_3</td>\n",
       "      <td>415.67</td>\n",
       "      <td>391.67</td>\n",
       "    </tr>\n",
       "  </tbody>\n",
       "</table>\n",
       "</div>"
      ],
      "text/plain": [
       "  No. de Barreras  Aluminio     Papel\n",
       "0             L_0  14979.67  14979.00\n",
       "1             L_1    427.33    415.67\n",
       "2             L_2    405.00    405.67\n",
       "3             L_3    415.67    391.67"
      ]
     },
     "execution_count": 27,
     "metadata": {},
     "output_type": "execute_result"
    }
   ],
   "source": [
    "Prom_Alfa = pd.DataFrame(L,columns=['No. de Barreras'])\n",
    "Prom_Alfa['Aluminio'] = [14979.67,427.33,405,415.67]\n",
    "Prom_Alfa['Papel'] = [14979,415.67,405.67,391.67]\n",
    "Prom_Alfa"
   ]
  },
  {
   "cell_type": "code",
   "execution_count": 29,
   "metadata": {},
   "outputs": [
    {
     "data": {
      "text/plain": [
       "[1.0, 0.027605547971430233, 0.02611344648714675, 0.02682642108801127]"
      ]
     },
     "execution_count": 29,
     "metadata": {},
     "output_type": "execute_result"
    }
   ],
   "source": [
    "aluminio_n = val_norm(Prom_Alfa['Aluminio'],Lf)\n",
    "aluminio_n"
   ]
  },
  {
   "cell_type": "code",
   "execution_count": 30,
   "metadata": {},
   "outputs": [
    {
     "data": {
      "text/plain": [
       "[1.0, 0.026827622153319793, 0.026159387362343637, 0.025223858654977015]"
      ]
     },
     "execution_count": 30,
     "metadata": {},
     "output_type": "execute_result"
    }
   ],
   "source": [
    "papel_n = val_norm(Prom_Alfa['Papel'],Lf)\n",
    "papel_n"
   ]
  },
  {
   "attachments": {},
   "cell_type": "markdown",
   "metadata": {},
   "source": [
    "## 5.- Penetración de la radiación beta fuerte"
   ]
  },
  {
   "attachments": {},
   "cell_type": "markdown",
   "metadata": {},
   "source": [
    "### Promedios radiación beta fuerte $(Sr-90/Y-90)$ "
   ]
  },
  {
   "cell_type": "code",
   "execution_count": 40,
   "metadata": {},
   "outputs": [],
   "source": [
    "L = ['L_0', 'L_1', 'L_2', 'L_3', 'L_4', 'L_5']"
   ]
  },
  {
   "cell_type": "code",
   "execution_count": 41,
   "metadata": {},
   "outputs": [
    {
     "data": {
      "text/html": [
       "<div>\n",
       "<style scoped>\n",
       "    .dataframe tbody tr th:only-of-type {\n",
       "        vertical-align: middle;\n",
       "    }\n",
       "\n",
       "    .dataframe tbody tr th {\n",
       "        vertical-align: top;\n",
       "    }\n",
       "\n",
       "    .dataframe thead th {\n",
       "        text-align: right;\n",
       "    }\n",
       "</style>\n",
       "<table border=\"1\" class=\"dataframe\">\n",
       "  <thead>\n",
       "    <tr style=\"text-align: right;\">\n",
       "      <th></th>\n",
       "      <th>No. de Barreras</th>\n",
       "      <th>Acrilico</th>\n",
       "      <th>Aluminio</th>\n",
       "    </tr>\n",
       "  </thead>\n",
       "  <tbody>\n",
       "    <tr>\n",
       "      <th>0</th>\n",
       "      <td>L_0</td>\n",
       "      <td>5306.33</td>\n",
       "      <td>5306.33</td>\n",
       "    </tr>\n",
       "    <tr>\n",
       "      <th>1</th>\n",
       "      <td>L_1</td>\n",
       "      <td>1062.67</td>\n",
       "      <td>20.33</td>\n",
       "    </tr>\n",
       "    <tr>\n",
       "      <th>2</th>\n",
       "      <td>L_2</td>\n",
       "      <td>86.67</td>\n",
       "      <td>8.33</td>\n",
       "    </tr>\n",
       "    <tr>\n",
       "      <th>3</th>\n",
       "      <td>L_3</td>\n",
       "      <td>10.33</td>\n",
       "      <td>9</td>\n",
       "    </tr>\n",
       "    <tr>\n",
       "      <th>4</th>\n",
       "      <td>L_4</td>\n",
       "      <td>14.67</td>\n",
       "      <td>Nan</td>\n",
       "    </tr>\n",
       "    <tr>\n",
       "      <th>5</th>\n",
       "      <td>L_5</td>\n",
       "      <td>10.67</td>\n",
       "      <td>Nan</td>\n",
       "    </tr>\n",
       "  </tbody>\n",
       "</table>\n",
       "</div>"
      ],
      "text/plain": [
       "  No. de Barreras  Acrilico Aluminio\n",
       "0             L_0   5306.33  5306.33\n",
       "1             L_1   1062.67    20.33\n",
       "2             L_2     86.67     8.33\n",
       "3             L_3     10.33        9\n",
       "4             L_4     14.67      Nan\n",
       "5             L_5     10.67      Nan"
      ]
     },
     "execution_count": 41,
     "metadata": {},
     "output_type": "execute_result"
    }
   ],
   "source": [
    "Prom_Beta = pd.DataFrame(L,columns=['No. de Barreras'])\n",
    "Prom_Beta['Acrilico'] = [5306.33,1062.67,86.67,10.33,14.67,10.67]\n",
    "Prom_Beta['Aluminio'] = [5306.33,20.33,8.33,9,\"Nan\",\"Nan\"]\n",
    "Prom_Beta"
   ]
  },
  {
   "cell_type": "code",
   "execution_count": 42,
   "metadata": {},
   "outputs": [
    {
     "data": {
      "text/plain": [
       "[1.0,\n",
       " 0.19811871590456018,\n",
       " 0.013693919083620394,\n",
       " -0.0007312745529682754,\n",
       " 8.881112141991988e-05,\n",
       " -0.0006670282098134398]"
      ]
     },
     "execution_count": 42,
     "metadata": {},
     "output_type": "execute_result"
    }
   ],
   "source": [
    "acrilico_n = val_norm(Prom_Beta['Acrilico'],lf=Lf)\n",
    "acrilico_n"
   ]
  },
  {
   "cell_type": "code",
   "execution_count": 44,
   "metadata": {},
   "outputs": [
    {
     "name": "stdout",
     "output_type": "stream",
     "text": [
      "0    5306.33\n",
      "1      20.33\n",
      "2       8.33\n",
      "3          9\n",
      "4        Nan\n",
      "5        Nan\n",
      "Name: Aluminio, dtype: object\n"
     ]
    },
    {
     "ename": "UFuncTypeError",
     "evalue": "ufunc 'subtract' did not contain a loop with signature matching types (dtype('<U3'), dtype('float64')) -> None",
     "output_type": "error",
     "traceback": [
      "\u001b[1;31m---------------------------------------------------------------------------\u001b[0m",
      "\u001b[1;31mUFuncTypeError\u001b[0m                            Traceback (most recent call last)",
      "Cell \u001b[1;32mIn[44], line 3\u001b[0m\n\u001b[0;32m      1\u001b[0m beta_al \u001b[39m=\u001b[39m Prom_Beta[\u001b[39m'\u001b[39m\u001b[39mAluminio\u001b[39m\u001b[39m'\u001b[39m]\u001b[39m.\u001b[39mdropna()\n\u001b[0;32m      2\u001b[0m \u001b[39mprint\u001b[39m(beta_al)\n\u001b[1;32m----> 3\u001b[0m al_n \u001b[39m=\u001b[39m val_norm(beta_al,lf\u001b[39m=\u001b[39;49mLf)\n\u001b[0;32m      4\u001b[0m al_n\n",
      "Cell \u001b[1;32mIn[25], line 5\u001b[0m, in \u001b[0;36mval_norm\u001b[1;34m(val, lf)\u001b[0m\n\u001b[0;32m      3\u001b[0m n_norm \u001b[39m=\u001b[39m []\n\u001b[0;32m      4\u001b[0m \u001b[39mfor\u001b[39;00m i \u001b[39min\u001b[39;00m np\u001b[39m.\u001b[39marange(\u001b[39mlen\u001b[39m(val)):\n\u001b[1;32m----> 5\u001b[0m     a \u001b[39m=\u001b[39m val[i]\u001b[39m-\u001b[39;49mlf\n\u001b[0;32m      6\u001b[0m     b \u001b[39m=\u001b[39m l0\u001b[39m-\u001b[39mlf\n\u001b[0;32m      7\u001b[0m     lN \u001b[39m=\u001b[39m a\u001b[39m/\u001b[39mb\n",
      "\u001b[1;31mUFuncTypeError\u001b[0m: ufunc 'subtract' did not contain a loop with signature matching types (dtype('<U3'), dtype('float64')) -> None"
     ]
    }
   ],
   "source": [
    "beta_al = Prom_Beta['Aluminio']\n",
    "print(beta_al)\n",
    "al_n = val_norm(beta_al,lf=Lf)\n",
    "al_n"
   ]
  },
  {
   "cell_type": "code",
   "execution_count": 39,
   "metadata": {},
   "outputs": [
    {
     "data": {
      "text/plain": [
       "0    9.0\n",
       "dtype: float64"
      ]
     },
     "execution_count": 39,
     "metadata": {},
     "output_type": "execute_result"
    }
   ],
   "source": [
    "prom = pd.DataFrame([10,9,8])\n",
    "prom.mean()"
   ]
  },
  {
   "cell_type": "code",
   "execution_count": null,
   "metadata": {},
   "outputs": [],
   "source": []
  }
 ],
 "metadata": {
  "kernelspec": {
   "display_name": "venv",
   "language": "python",
   "name": "python3"
  },
  "language_info": {
   "codemirror_mode": {
    "name": "ipython",
    "version": 3
   },
   "file_extension": ".py",
   "mimetype": "text/x-python",
   "name": "python",
   "nbconvert_exporter": "python",
   "pygments_lexer": "ipython3",
   "version": "3.10.11"
  },
  "orig_nbformat": 4
 },
 "nbformat": 4,
 "nbformat_minor": 2
}
